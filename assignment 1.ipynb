{
 "cells": [
  {
   "cell_type": "markdown",
   "id": "dba8a3b8",
   "metadata": {},
   "source": [
    "Question 1 C#\n",
    "\n",
    "1.What data type is each of the following?\n",
    "5->integer\n",
    "5.0->Float\n",
    "5 > 1->Boolean\n",
    "'5'-> String\n",
    "5 * 2->Int32\n",
    "'5' * 2->String\n",
    "'5' + '2'->String\n",
    "5 / 2->Int32\n",
    "5 % 2->Double\n",
    "{5, 2, 1}->List\n",
    "5 == 3->Boolean\n",
    "Pi (the number)->Double"
   ]
  },
  {
   "cell_type": "markdown",
   "id": "30089184",
   "metadata": {},
   "source": [
    "Question 2 C#\n",
    "\n",
    "Write (and evaluate) C# expressions that answer these questions:\n",
    "\n",
    "a.How many lettersare there in 'Supercalifragilisticexpialidocious'?"
   ]
  },
  {
   "cell_type": "code",
   "execution_count": null,
   "id": "d3e42327",
   "metadata": {},
   "outputs": [],
   "source": [
    "string = 'Supercalifragilisticexpialidocious';\n",
    "length = len(string);\n",
    "print(\"There are\" ,length, \"letters in Supercalifragilisticexpialidocious.\")"
   ]
  },
  {
   "cell_type": "markdown",
   "id": "bca01baf",
   "metadata": {},
   "source": [
    " b.Does 'Supercalifragilisticexpialidocious' contain 'ice' as a substring?"
   ]
  },
  {
   "cell_type": "code",
   "execution_count": null,
   "id": "a91e1792",
   "metadata": {},
   "outputs": [],
   "source": [
    "string1 = 'Supercalifragilisticexpialidocious';\n",
    "if 'ice' in string1:\n",
    "    print(\"True\")\n",
    "else:\n",
    "    print(\"False\")"
   ]
  },
  {
   "cell_type": "markdown",
   "id": "ee33213a",
   "metadata": {},
   "source": [
    "c. Which of the following words is the longest: Supercalifragilisticexpialidocious, Honorificabilitudinitatibus, or Bababadalgharaghtakamminarronnkonn?"
   ]
  },
  {
   "cell_type": "code",
   "execution_count": null,
   "id": "d727266e",
   "metadata": {},
   "outputs": [],
   "source": [
    "string1 = 'Supercalifragilisticexpialidocious';\n",
    "string2 = 'Honorificabilitudinitatibus';\n",
    "string3 = 'Bababadalgharaghtakamminarronnkonn';\n",
    "if len(string1) >= len(string2) and len(string1) >=len(string3):\n",
    "    print('Supercalifragilisticexpialidocious is longest word')\n",
    "    \n",
    "elif len(string2) >= len(string1) and len(string2) >= len(string3):\n",
    "    print('Honorificabilitudinitatibus is longest word')\n",
    "    \n",
    "else:\n",
    "    print('Bababadalgharaghtakamminarronnkonn is longest word')"
   ]
  },
  {
   "cell_type": "markdown",
   "id": "ab397beb",
   "metadata": {},
   "source": [
    "d. Which composer comes first in the dictionary: 'Berlioz', 'Borodin', 'Brian',\n",
    "'Bartok', 'Bellini', 'Buxtehude', 'Bernstein'. Which one comes last?"
   ]
  },
  {
   "cell_type": "code",
   "execution_count": null,
   "id": "cc8b1761",
   "metadata": {},
   "outputs": [],
   "source": [
    "composersDictionary = ['Berlioz', 'Borodin','Brian', 'Bartok', 'Bellini', 'Buxtehude', 'Bernstein']\n",
    "composersDictionary.sort() \n",
    "print(composersDictionary[0], \"comes first in the dictionary.\")\n",
    "print(composersDictionary[6], \"comes last in the dictionary.\")"
   ]
  },
  {
   "cell_type": "markdown",
   "id": "df37fb67",
   "metadata": {},
   "source": [
    "Implement function triangleArea(a,b,c) that takes as input the lengths of the 3\n",
    "sides of a triangle and returns the area of the triangle. By Heron's formula, the area\n",
    "of a triangle with side lengths a, b, and c is\n",
    "s(s - a)(s -b)(s -c)\n",
    ", where\n",
    "s = (a+b+c)/2.\n",
    ">>> triangleArea(2,2,2)\n",
    "1.7320508075688772"
   ]
  },
  {
   "cell_type": "code",
   "execution_count": null,
   "id": "8816ea06",
   "metadata": {},
   "outputs": [],
   "source": [
    "import math\n",
    "firstNumber = int(input('Enter length of one side:'))\n",
    "secondNumber = int(input('Enter length of second side:'))\n",
    "thirdNumber = int(input('Enter length of third side:'))\n",
    "\n",
    "def triangleArea(a,b,c):\n",
    "    s = (a+b+c)/2\n",
    "    area = math.sqrt(s*(s-a)*(s-b)*(s-c))\n",
    "    print('Area of the triangle is: ', area)\n",
    "    \n",
    "triangleArea(firstNumber, secondNumber, thirdNumber)"
   ]
  },
  {
   "cell_type": "markdown",
   "id": "050bb435",
   "metadata": {},
   "source": [
    "Question 4 C#\n",
    "Write a program in C# Sharp to separate odd and even integers in separate arrays.\n"
   ]
  },
  {
   "cell_type": "code",
   "execution_count": null,
   "id": "d7002b8d",
   "metadata": {},
   "outputs": [],
   "source": [
    "firstElement = int(input('Enter the first element:'))\n",
    "secondElement = int(input('Enter the second element:'))\n",
    "thirdElement = int(input('Enter the third element:'))\n",
    "fourthElement = int(input('Enter the fourth element:'))\n",
    "fifthElement = int(input('Enter the fifth element:'))\n",
    "\n",
    "list = [firstElement, secondElement, thirdElement, fourthElement, fifthElement]\n",
    "listOfEven  = []\n",
    "listOfOdd = []\n",
    "\n",
    "for i in list:\n",
    "    if i%2==0:\n",
    "        listOfEven.append(i)\n",
    "    \n",
    "    else:\n",
    "        listOfOdd.append(i)\n",
    "        \n",
    "print('Even numbers are', listOfEven)\n",
    "print('Odd nunmbers are', listOfOdd)"
   ]
  },
  {
   "cell_type": "markdown",
   "id": "651eb9b2",
   "metadata": {},
   "source": [
    "Question 5 C#\n",
    "\n",
    "a. Write a function inside(x,y,x1,y1,x2,y2) that returns True or False\n",
    "depending on whether the point (x,y) lies in the rectangle with lower left\n",
    "corner (x1,y1) and upper right corner (x2,y2).\n",
    ">>> inside(1,1,0,0,2,3)\n",
    "True\n",
    ">>> inside(-1,-1,0,0,2,3)\n",
    "False\n"
   ]
  },
  {
   "cell_type": "code",
   "execution_count": null,
   "id": "62efbf07",
   "metadata": {},
   "outputs": [],
   "source": [
    "x = int(input(\"Enter x: \"))\n",
    "y = int(input(\"Enter y: \"))\n",
    "x1 = int(input(\"Enter x1: \"))\n",
    "y1 = int(input(\"Enter y1: \"))\n",
    "x2 = int(input(\"Enter x2: \"))\n",
    "y2 = int(input(\"Enter y2: \"))\n",
    "\n",
    "def inside(x,y,x1,y1,x2,y2):\n",
    "    \n",
    "    if(x > x1 and x < x2) and (y > y1 and y < y2):\n",
    "        print('True')\n",
    "        \n",
    "    else:\n",
    "        print('False')\n",
    "        \n",
    "inside(x,y,x1,y1,x2,y2)"
   ]
  },
  {
   "cell_type": "markdown",
   "id": "4409cc63",
   "metadata": {},
   "source": [
    "b. Use function inside() from part a. to write an expression that tests whether\n",
    "the point (1,1) lies in both of the following rectangles: one with lower left\n",
    "corner (0.3, 0.5) and upper right corner (1.1, 0.7) and the other with lower\n",
    "left corner (0.5, 0.2) and upper right corner (1.1, 2). "
   ]
  },
  {
   "cell_type": "code",
   "execution_count": null,
   "id": "6aea01e6",
   "metadata": {},
   "outputs": [],
   "source": [
    "x = int(input(\"Enter x: \"))\n",
    "y = int(input(\"Enter y: \"))\n",
    "x1 = float(input(\"Enter x1: \"))\n",
    "y1 = float(input(\"Enter y1: \"))\n",
    "x2 = float(input(\"Enter x2: \"))\n",
    "y2 = float(input(\"Enter y2: \"))\n",
    "\n",
    "def inside(x,y,x1,y1,x2,y2):\n",
    "    \n",
    "    if(x > x1 and x < x2) and (y > y1 and y < y2):\n",
    "        print('True')\n",
    "        \n",
    "    else:\n",
    "        print('False')\n",
    "        \n",
    "inside(x,y,x1,y1,x2,y2)"
   ]
  },
  {
   "cell_type": "markdown",
   "id": "c3e6bb6c",
   "metadata": {},
   "source": [
    "Question 6 Python \n",
    "\n",
    " You can turn a word into pig-Latin using the following two rules (simplified):\n",
    "• If the word starts with a consonant, move that letter to the end and append\n",
    "'ay'. For example, 'happy' becomes 'appyhay' and 'pencil' becomes 'encilpay'.\n",
    "• If the word starts with a vowel, simply append 'way' to the end of the word.\n",
    "For example, 'enter' becomes 'enterway' and 'other' becomes 'otherway' . For\n",
    "our purposes, there are 5 vowels: a, e, i, o, u (so we count y as a consonant).\n",
    "Write a function pig() that takes a word (i.e., a string) as input and returns its pigLatin form. Your function should still work if the input word contains upper case\n",
    "characters. Your output should always be lower case however. "
   ]
  },
  {
   "cell_type": "code",
   "execution_count": null,
   "id": "5004a7ad",
   "metadata": {},
   "outputs": [],
   "source": [
    "vowels = ['a','e','i','o','u']\n",
    "def pig():\n",
    "    string = input(\"Enter a word : \")\n",
    "    string = string.lower()\n",
    "    if string[0] in vowels:\n",
    "        string +=  'way'\n",
    "        print (string)\n",
    "    else:\n",
    "        result = string[1:]\n",
    "        result = result + string[0] + 'ay'\n",
    "        print(result)\n",
    "pig()"
   ]
  },
  {
   "cell_type": "markdown",
   "id": "2a468a0f",
   "metadata": {},
   "source": [
    "Question 7 Python\n",
    "\n",
    "File bloodtype1.txt records blood-types of patients (A, B, AB, O or OO) at a clinic.\n",
    "Write a function bldcount() that reads the file with name name and reports (i.e.,\n",
    "prints) how many patients there are in each bloodtype.\n",
    ">>> bldcount('bloodtype.txt')\n",
    "There are 10 patients of blood type A.\n",
    "There is one patient of blood type B.\n",
    "There are 10 patients of blood type AB.\n",
    "There are 12 patients of blood type O.\n",
    "There are no patients of blood type OO.\n"
   ]
  },
  {
   "cell_type": "code",
   "execution_count": null,
   "id": "521692be",
   "metadata": {},
   "outputs": [],
   "source": [
    "file = open(\"bloodtype.txt\", \"r\")\n",
    "list = file.readlines() \n",
    "for i in list:\n",
    "    bloodType = i.split() \n",
    "    \n",
    "bloodA = bloodType.count('A')\n",
    "bloodB = bloodType.count('B')\n",
    "bloodAB = bloodType.count('AB')\n",
    "bloodO = bloodType.count('O')\n",
    "bloodOO = bloodType.count('OO')\n",
    "print(\"There are\" ,bloodA, \"patients of blood type A.\")\n",
    "print(\"There are\" ,bloodB, \"patients of blood type B.\")\n",
    "print(\"There are\" ,bloodAB, \"patients of blood type AB.\")\n",
    "print(\"There are\" ,bloodO, \"patients of blood type O.\")\n",
    "print(\"There are\" ,bloodOO, \"patients of blood type OO.\")"
   ]
  },
  {
   "cell_type": "markdown",
   "id": "9e58639b",
   "metadata": {},
   "source": [
    "Q.No.8 Write a function curconv() that takes as input:\n",
    "    1. a currency represented using a string (e.g., 'JPY' for the Japanese Yen or\n",
    "       'EUR' for the Euro)\n",
    "    2. an amount   and then converts and returns the amount in US dollars.\n",
    "    \n",
    "    \n",
    ">>> curconv('EUR', 100)\n",
    "122.96544\n",
    ">>> curconv('JPY', 100)\n",
    "1.241401\n",
    "The currency rates you will need are stored in file currencies.txt:\n",
    "AUD 1.0345157 Australian Dollar\n",
    "CHF 1.0237414 Swiss Franc\n",
    "CNY 0.1550176 Chinese Yuan\n",
    " BDAT 1004 – Data Programming\n",
    "Page 5 of 6\n",
    "F2021\n",
    "BDAT 1004 Computer Studies\n",
    "DKK 0.1651442 Danish Krone\n",
    "EUR 1.2296544 Euro\n",
    "GBP 1.5550989 British Pound\n",
    "HKD 0.1270207 Hong Kong Dollar\n",
    "INR 0.0177643 Indian Rupee\n",
    "JPY 0.01241401 Japanese Yen\n",
    "MXN 0.0751848 Mexican Peso\n",
    "MYR 0.3145411 Malaysian Ringgit\n",
    "NOK 0.1677063 Norwegian Krone\n",
    "NZD 0.8003591 New Zealand Dollar\n",
    "PHP 0.0233234 Philippine Peso\n",
    "SEK 0.148269 Swedish Krona\n",
    "SGD 0.788871 Singapore Dollar\n",
    "THB 0.0313789 Thai Baht"
   ]
  },
  {
   "cell_type": "code",
   "execution_count": null,
   "id": "1663b12e",
   "metadata": {},
   "outputs": [],
   "source": [
    "def curconv(country, amt):\n",
    "    data=open(\"currency.txt\",\"r\")\n",
    "    f=data.readlines()\n",
    "    list1 = []\n",
    "    list2 = []\n",
    "    list3 = []\n",
    "    \n",
    "    for i in f:\n",
    "        j = 0\n",
    "        k = i.split('\\t')\n",
    "        for j in range(len(k)-2):\n",
    "            list1.append(k[j])\n",
    "            list2.append(float(k[j+1]))\n",
    "            list3.append(k[j+2].strip())\n",
    "    h = list1.index(country)\n",
    "    return amt*list2[h]\n",
    "curconv(\"EUR\",100)\n",
    "curconv(\"JPY\",100)\n"
   ]
  },
  {
   "cell_type": "markdown",
   "id": "d9f8b52e",
   "metadata": {},
   "source": [
    "Question 9 Python\n",
    "\n",
    "Each of the following will cause an exception (an error). Identify what type of\n",
    "exception each will cause.\n",
    "Trying to add incompatible variables, as in\n",
    "adding 6 + ‘a’\n",
    "Referring to the 12th item of a list that has only 10\n",
    "items\n",
    "Using a value that is out of range for a function’s\n",
    "input, such as calling math.sqrt(-1.0)\n",
    "Using an undeclared variable, such as print(x)\n",
    "when x has not been defined\n",
    "Trying to open a file that does not exist, such as\n",
    "mistyping the file name or looking in the wrong\n",
    "directory. "
   ]
  },
  {
   "cell_type": "code",
   "execution_count": null,
   "id": "c222dd55",
   "metadata": {},
   "outputs": [],
   "source": [
    "6 + 'a'"
   ]
  },
  {
   "cell_type": "code",
   "execution_count": null,
   "id": "156bf913",
   "metadata": {},
   "outputs": [],
   "source": [
    "list = [1,2,3,4,5,6,7,8,9,10]\n",
    "\n",
    "show = list[12]\n",
    "print(show)"
   ]
  },
  {
   "cell_type": "code",
   "execution_count": null,
   "id": "8e2decf4",
   "metadata": {},
   "outputs": [],
   "source": [
    "import math\n",
    "math.sqrt(-1.0)\n"
   ]
  },
  {
   "cell_type": "code",
   "execution_count": null,
   "id": "88cd9149",
   "metadata": {},
   "outputs": [],
   "source": [
    "str = 'Data Programming'\n",
    "print(x)"
   ]
  },
  {
   "cell_type": "code",
   "execution_count": null,
   "id": "778d56c8",
   "metadata": {},
   "outputs": [],
   "source": [
    "f = open(\"dataprogramming.txt\")"
   ]
  },
  {
   "cell_type": "markdown",
   "id": "9d2ff25c",
   "metadata": {},
   "source": [
    "Question 10 Python\n",
    "\n",
    "Encryption is the process of hiding the meaning of a text by substituting letters in the\n",
    "message with other letters, according to some system. If the process is successful, no\n",
    "one but the intended recipient can understand the encrypted message. Cryptanalysis\n",
    "refers to attempts to undo the encryption, even if some details of the encryption are\n",
    "unknown (for example, if an encrypted message has been intercepted). The first step\n",
    "of cryptanalysis is often to build up a table of letter frequencies in the encrypted text.\n",
    "Assume that the string letters is already defined as\n",
    "'abcdefghijklmnopqrstuvwxyz'. Write a function called frequencies()\n",
    "that takes a string as its only parameter, and returns a list of integers, showing the\n",
    "number of times each character appears in the text. Your function may ignore any\n",
    "characters that are not in letters.\n",
    ">>> frequencies('The quick red fox got bored and went home.')\n",
    "[1, 1, 1, 3, 5, 1, 1, 2, 1, 0, 1, 0, 1, 2, 4, 0, 1, 2, 0, 2,\n",
    "1, 0, 1, 1, 0, 0]\n",
    ">>> frequencies('apple')"
   ]
  },
  {
   "cell_type": "code",
   "execution_count": 2,
   "id": "9f45e026",
   "metadata": {},
   "outputs": [],
   "source": [
    "def frequencies(text):\n",
    "    \n",
    "    #set of alphabets\n",
    "    alphabets = ('a','b','c','d','e','f','g','h','i','j','k','l','m','n','o','p','q','r','s','t','u','v','w','x','y','z')\n",
    "    total_characters = []\n",
    "    alpha_dict = {}\n",
    "    #picking character from every word of input and appending it to total_character list.\n",
    "    for word in text:\n",
    "        for char in word:\n",
    "            if char.isalpha():\n",
    "                total_characters.append(char)\n",
    "    #checking if the alphabet is present in the total_character list than assigning it it's count otherwise 0\n",
    "    for char in alphabets:\n",
    "        if char in total_characters:\n",
    "            alpha_dict[char] = total_characters.count(char)\n",
    "        else:\n",
    "            alpha_dict[char] = 0\n",
    "            \n",
    "    #printing out the values(count) of the alphabets present in the total_character list\n",
    "    print(list(alpha_dict.values()))"
   ]
  },
  {
   "cell_type": "code",
   "execution_count": 4,
   "id": "1dc27623",
   "metadata": {},
   "outputs": [
    {
     "name": "stdout",
     "output_type": "stream",
     "text": [
      "[1, 1, 1, 3, 5, 1, 1, 2, 1, 0, 1, 0, 1, 2, 4, 0, 1, 2, 0, 2, 1, 0, 1, 1, 0, 0]\n"
     ]
    }
   ],
   "source": [
    "frequencies('The quick red fox got bored and went home.')"
   ]
  },
  {
   "cell_type": "code",
   "execution_count": 5,
   "id": "e232e638",
   "metadata": {},
   "outputs": [
    {
     "name": "stdout",
     "output_type": "stream",
     "text": [
      "[1, 0, 0, 0, 1, 0, 0, 0, 0, 0, 0, 1, 0, 0, 0, 2, 0, 0, 0, 0, 0, 0, 0, 0, 0, 0]\n"
     ]
    }
   ],
   "source": [
    "frequencies('apple')"
   ]
  },
  {
   "cell_type": "code",
   "execution_count": null,
   "id": "c59640c6",
   "metadata": {},
   "outputs": [],
   "source": []
  }
 ],
 "metadata": {
  "kernelspec": {
   "display_name": "Python 3 (ipykernel)",
   "language": "python",
   "name": "python3"
  },
  "language_info": {
   "codemirror_mode": {
    "name": "ipython",
    "version": 3
   },
   "file_extension": ".py",
   "mimetype": "text/x-python",
   "name": "python",
   "nbconvert_exporter": "python",
   "pygments_lexer": "ipython3",
   "version": "3.9.12"
  }
 },
 "nbformat": 4,
 "nbformat_minor": 5
}
